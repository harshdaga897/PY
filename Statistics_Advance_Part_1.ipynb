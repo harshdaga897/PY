{
  "nbformat": 4,
  "nbformat_minor": 0,
  "metadata": {
    "colab": {
      "provenance": []
    },
    "kernelspec": {
      "name": "python3",
      "display_name": "Python 3"
    },
    "language_info": {
      "name": "python"
    }
  },
  "cells": [
    {
      "cell_type": "markdown",
      "source": [
        "## Theory"
      ],
      "metadata": {
        "id": "hB3qV-pjA9Xa"
      }
    },
    {
      "cell_type": "markdown",
      "source": [
        "1. What is a random variable in probability theory?  \n",
        "A random variable is a function that assigns numerical values to the outcomes of a random experiment.\n",
        "\n",
        "2. What are the types of random variables?  \n",
        "1. Discrete random variables – take countable values (e.g., 0, 1, 2, ...).  \n",
        "2. Continuous random variables – take any value in a continuous range (e.g., any real number in an interval).\n",
        "\n",
        "3. What is the difference between discrete and continuous distributions?  \n",
        "- Discrete distributions deal with distinct, separate values.  \n",
        "- Continuous distributions involve data that can take any value in a given range, often represented by a curve.\n",
        "\n",
        "4. What are probability distribution functions (PDF)?  \n",
        "A PDF describes the likelihood of a random variable taking on a specific value (discrete) or a range of values (continuous).\n",
        "\n",
        "5. How do cumulative distribution functions (CDF) differ from probability distribution functions (PDF)?  \n",
        "A CDF gives the probability that a variable is less than or equal to a certain value, while a PDF gives the probability density at a particular value (for continuous) or exact probabilities (for discrete).\n",
        "\n",
        "6. What is a discrete uniform distribution?  \n",
        "A discrete uniform distribution assigns equal probabilities to all outcomes in a finite set (e.g., rolling a fair die).\n",
        "\n",
        "7. What are the key properties of a Bernoulli distribution?  \n",
        "- Two outcomes: success (1) or failure (0)  \n",
        "- One parameter: p (probability of success)  \n",
        "- Mean: p, Variance: p(1 - p)\n",
        "\n",
        "8. What is the binomial distribution, and how is it used in probability?  \n",
        "It models the number of successes in n independent Bernoulli trials, each with probability p of success.\n",
        "\n",
        "9. What is the Poisson distribution and where is it applied?  \n",
        "It models the number of events occurring in a fixed interval of time/space when events happen independently and at a constant rate. Common in modeling rare events.\n",
        "\n",
        "10. What is a continuous uniform distribution?  \n",
        "A distribution where all intervals of the same length within the distribution’s range are equally probable.\n",
        "\n",
        "11. What are the characteristics of a normal distribution?  \n",
        "- Bell-shaped and symmetric around the mean  \n",
        "- Mean = Median = Mode  \n",
        "- Defined by mean (μ) and standard deviation (σ)\n",
        "\n",
        "12. What is the standard normal distribution, and why is it important?  \n",
        "A normal distribution with mean = 0 and standard deviation = 1. It's a reference for calculating probabilities using Z-scores.\n",
        "\n",
        "13. What is the Central Limit Theorem (CLT), and why is it critical in statistics?  \n",
        "CLT states that the sampling distribution of the sample mean approaches a normal distribution as sample size increases, regardless of the population’s distribution.\n",
        "\n",
        "14. How does the Central Limit Theorem relate to the normal distribution?  \n",
        "The CLT explains why many statistical methods assume normality — large sample means tend to follow a normal distribution.\n",
        "\n",
        "15. What is the application of Z statistics in hypothesis testing?  \n",
        "Z-statistics help determine how far a sample statistic is from the population mean in standard deviations, guiding decisions to reject or fail to reject a null hypothesis.\n",
        "\n",
        "16. How do you calculate a Z-score, and what does it represent?  \n",
        "Z-score = (X - μ) / σ. It represents how many standard deviations a value X is from the mean μ.\n",
        "\n",
        "17. What are point estimates and interval estimates in statistics?  \n",
        "- Point estimate: A single value estimate of a population parameter (e.g., sample mean).  \n",
        "- Interval estimate: A range of values (confidence interval) likely to contain the population parameter.\n",
        "\n",
        "18. What is the significance of confidence intervals in statistical analysis?  \n",
        "They provide a range of plausible values for a population parameter and indicate the reliability of the estimate.\n",
        "\n",
        "19. What is the relationship between a Z-score and a confidence interval?  \n",
        "Z-scores define the bounds of a confidence interval for a normal distribution (e.g., ±1.96 for 95% CI).\n",
        "\n",
        "20. How are Z-scores used to compare different distributions?  \n",
        "Z-scores standardize values, allowing comparison across different distributions by putting values on the same scale.\n",
        "\n",
        "21. What are the assumptions for applying the Central Limit Theorem?  \n",
        "- Independent and identically distributed (i.i.d.) samples  \n",
        "- Finite mean and variance  \n",
        "- Sample size is sufficiently large (often n ≥ 30)\n",
        "\n",
        "22. What is the concept of expected value in a probability distribution?  \n",
        "The expected value is the long-run average or mean of a random variable’s outcomes, weighted by their probabilities.\n",
        "\n",
        "23. How does a probability distribution relate to the expected outcome of a random variable?  \n",
        "The expected outcome is derived from the probability distribution, summing (or integrating) all possible outcomes weighted by their probabilities.\n"
      ],
      "metadata": {
        "id": "pbbjdqF6A_c7"
      }
    }
  ]
}