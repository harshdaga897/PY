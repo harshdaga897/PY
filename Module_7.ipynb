{
  "nbformat": 4,
  "nbformat_minor": 0,
  "metadata": {
    "colab": {
      "provenance": []
    },
    "kernelspec": {
      "name": "python3",
      "display_name": "Python 3"
    },
    "language_info": {
      "name": "python"
    }
  },
  "cells": [
    {
      "cell_type": "markdown",
      "source": [
        "## Theory"
      ],
      "metadata": {
        "id": "KE-nXASW_BM7"
      }
    },
    {
      "cell_type": "markdown",
      "source": [
        "# 1. What is the difference between interpreted and compiled languages?\n",
        " Interpreted languages are executed line by line at runtime (e.g., Python), whereas compiled languages are transformed into machine code before execution (e.g., C++) for faster performance.\n",
        "\n",
        "# 2. What is exception handling in Python?\n",
        " Exception handling in Python allows a program to continue execution or handle errors gracefully using try, except, else, and finally blocks.\n",
        "\n",
        "# 3. What is the purpose of the finally block in exception handling?\n",
        " The finally block is executed regardless of whether an exception occurs or not, and is often used for cleanup actions like closing files.\n",
        "\n",
        "# 4. What is logging in Python?\n",
        " Logging is a way to track events that happen during program execution. It helps in debugging, monitoring, and auditing software behavior.\n",
        "\n",
        "# 5. What is the significance of the __del__ method in Python?\n",
        " The __del__ method is called when an object is about to be destroyed and can be used to release resources like files or network connections.\n",
        "\n",
        "# 6. What is the difference between import and from ... import in Python?\n",
        " `import module` loads the entire module. `from module import something` loads only specific functions, classes, or variables from the module.\n",
        "\n",
        "# 7. How can you handle multiple exceptions in Python?\n",
        " You can handle multiple exceptions by writing multiple except blocks or using a tuple of exceptions in a single except block.\n",
        "\n",
        "# 8. What is the purpose of the with statement when handling files in Python?\n",
        " The with statement ensures proper acquisition and release of file resources, automatically closing the file after the block is executed.\n",
        "\n",
        "# 9. What is the difference between multithreading and multiprocessing?\n",
        " Multithreading uses multiple threads within a process; multiprocessing uses separate processes. Multiprocessing avoids GIL issues in Python.\n",
        "\n",
        "# 10. What are the advantages of using logging in a program?\n",
        " Logging provides persistent diagnostic information, is more flexible than print statements, and supports multiple levels of severity.\n",
        "\n",
        "# 11. What is memory management in Python?\n",
        " Memory management involves allocating, using, and releasing memory during the program lifecycle. Python handles this using a private heap and garbage collection.\n",
        "\n",
        "# 12. What are the basic steps involved in exception handling in Python?\n",
        " Use try to wrap risky code, except to handle specific errors, else for code after try if no exception occurs, and finally for cleanup actions.\n",
        "\n",
        "# 13. Why is memory management important in Python?\n",
        " Good memory management prevents memory leaks, improves performance, and ensures that applications run efficiently and reliably.\n",
        "\n",
        "# 14. What is the role of try and except in exception handling?\n",
        " The try block contains code that may raise an exception. The except block handles the exception if one occurs, preventing program crash.\n",
        "\n",
        "# 15. How does Python's garbage collection system work?\n",
        " Python uses reference counting and a cyclic garbage collector to reclaim memory occupied by objects that are no longer in use.\n",
        "\n",
        "# 16. What is the purpose of the else block in exception handling?\n",
        " The else block runs if no exception occurs in the try block, separating normal code from exception-handling code.\n",
        "\n",
        "# 17. What are the common logging levels in Python?\n",
        " DEBUG, INFO, WARNING, ERROR, and CRITICAL are the common logging levels, indicating increasing severity.\n",
        "\n",
        "# 18. What is the difference between os.fork() and multiprocessing in Python?\n",
        " os.fork() is Unix-specific and creates a child process. The multiprocessing module is cross-platform and provides a simpler interface for parallelism.\n",
        "\n",
        "# 19. What is the importance of closing a file in Python?\n",
        " Closing a file releases system resources, ensures all data is written properly, and prevents file corruption.\n",
        "\n",
        "# 20. What is the difference between file.read() and file.readline() in Python?\n",
        " file.read() reads the entire file into a single string. file.readline() reads one line at a time.\n",
        "\n",
        "# 21. What is the logging module in Python used for?\n",
        " The logging module is used to log messages to different destinations (console, file, etc.) with different severity levels.\n",
        "\n",
        "# 22. What is the os module in Python used for in file handling?\n",
        " The os module allows you to interact with the operating system, including file path manipulation, file deletion, and directory navigation.\n",
        "\n",
        "# 23. What are the challenges associated with memory management in Python?\n",
        " Circular references, memory leaks from long-lived objects, and handling large datasets can complicate memory management in Python.\n",
        "\n",
        "# 24. How do you raise an exception manually in Python?\n",
        " You can raise an exception using the raise keyword: `raise ValueError(\"Custom error message\")`.\n",
        "\n",
        "# 25. Why is it important to use multithreading in certain applications?\n",
        " Multithreading is useful for I/O-bound tasks, allowing applications to remain responsive and efficient by performing tasks concurrently.\n"
      ],
      "metadata": {
        "id": "IB4FU_If_G55"
      }
    },
    {
      "cell_type": "markdown",
      "source": [
        "## Practical"
      ],
      "metadata": {
        "id": "bJmLu3XC_KVB"
      }
    },
    {
      "cell_type": "code",
      "source": [
        "# 1. How can you open a file for writing in Python and write a string to it\n",
        "with open(\"output.txt\", \"w\") as f:\n",
        "    f.write(\"Hello, world!\")"
      ],
      "metadata": {
        "id": "vbhLZfas_NVJ"
      },
      "execution_count": null,
      "outputs": []
    },
    {
      "cell_type": "code",
      "source": [
        "# 2. Write a Python program to read the contents of a file and print each line\n",
        "with open(\"output.txt\", \"r\") as f:\n",
        "    for line in f:\n",
        "        print(line.strip())"
      ],
      "metadata": {
        "id": "RP1wi1XP_OTp"
      },
      "execution_count": null,
      "outputs": []
    },
    {
      "cell_type": "code",
      "source": [
        "# 3. How would you handle a case where the file doesn't exist while trying to open it for reading\n",
        "try:\n",
        "    with open(\"nonexistent.txt\", \"r\") as f:\n",
        "        content = f.read()\n",
        "except FileNotFoundError:\n",
        "    print(\"File not found\")"
      ],
      "metadata": {
        "id": "-C_3D7ss_RDJ"
      },
      "execution_count": null,
      "outputs": []
    },
    {
      "cell_type": "code",
      "source": [
        "# 4. Write a Python script that reads from one file and writes its content to another file\n",
        "with open(\"source.txt\", \"r\") as src, open(\"destination.txt\", \"w\") as dst:\n",
        "    dst.write(src.read())"
      ],
      "metadata": {
        "id": "GyIe5g0i_VHh"
      },
      "execution_count": null,
      "outputs": []
    },
    {
      "cell_type": "code",
      "source": [
        "# 5. How would you catch and handle division by zero error in Python\n",
        "try:\n",
        "    result = 10 / 0\n",
        "except ZeroDivisionError:\n",
        "    print(\"Cannot divide by zero\")\n"
      ],
      "metadata": {
        "id": "zLqYZSSe_W_h"
      },
      "execution_count": null,
      "outputs": []
    },
    {
      "cell_type": "code",
      "source": [
        "# 6. Write a Python program that logs an error message to a log file when a division by zero exception occurs\n",
        "import logging\n",
        "logging.basicConfig(filename=\"error.log\", level=logging.ERROR)\n",
        "try:\n",
        "    x = 10 / 0\n",
        "except ZeroDivisionError as e:\n",
        "    logging.error(\"Division by zero error: %s\", e)"
      ],
      "metadata": {
        "id": "Z4gGOFC5_Y1C"
      },
      "execution_count": null,
      "outputs": []
    },
    {
      "cell_type": "code",
      "source": [
        "# 7. How do you log information at different levels (INFO, ERROR, WARNING) in Python using the logging module\n",
        "logging.basicConfig(level=logging.DEBUG)\n",
        "logging.info(\"This is an info message\")\n",
        "logging.warning(\"This is a warning\")\n",
        "logging.error(\"This is an error\")"
      ],
      "metadata": {
        "id": "yEW-fm1t_bNJ"
      },
      "execution_count": null,
      "outputs": []
    },
    {
      "cell_type": "code",
      "source": [
        "# 8. Write a program to handle a file opening error using exception handling\n",
        "try:\n",
        "    with open(\"unknown.txt\", \"r\") as f:\n",
        "        print(f.read())\n",
        "except FileNotFoundError:\n",
        "    print(\"The file could not be opened\")\n"
      ],
      "metadata": {
        "id": "4uu05C_h_eA6"
      },
      "execution_count": null,
      "outputs": []
    },
    {
      "cell_type": "code",
      "source": [
        "# 9. How can you read a file line by line and store its content in a list in Python\n",
        "with open(\"output.txt\", \"r\") as f:\n",
        "    lines = [line.strip() for line in f]\n",
        "print(lines)"
      ],
      "metadata": {
        "id": "qQLVeg81_ekJ"
      },
      "execution_count": null,
      "outputs": []
    },
    {
      "cell_type": "code",
      "source": [
        "# 10. How can you append data to an existing file in Python\n",
        "with open(\"output.txt\", \"a\") as f:\n",
        "    f.write(\"\\nAppended line\")"
      ],
      "metadata": {
        "id": "kTGRSFx6_jeR"
      },
      "execution_count": null,
      "outputs": []
    },
    {
      "cell_type": "code",
      "source": [
        "# 11. Write a Python program that uses a try-except block to handle an error when attempting to access a dictionary key that doesn't exist\n",
        "data = {\"name\": \"Alice\"}\n",
        "try:\n",
        "    print(data[\"age\"])\n",
        "except KeyError:\n",
        "    print(\"Key not found\")\n"
      ],
      "metadata": {
        "id": "VqAgDR4c_liA"
      },
      "execution_count": null,
      "outputs": []
    },
    {
      "cell_type": "code",
      "source": [
        "# 12. Write a program that demonstrates using multiple except blocks to handle different types of exceptions\n",
        "try:\n",
        "    x = int(\"abc\")\n",
        "    y = 10 / 0\n",
        "except ValueError:\n",
        "    print(\"Value error occurred\")\n",
        "except ZeroDivisionError:\n",
        "    print(\"Division by zero\")"
      ],
      "metadata": {
        "id": "l-3Pw2l__oNJ"
      },
      "execution_count": null,
      "outputs": []
    },
    {
      "cell_type": "code",
      "source": [
        "# 13. How would you check if a file exists before attempting to read it in Python\n",
        "import os\n",
        "if os.path.exists(\"output.txt\"):\n",
        "    with open(\"output.txt\", \"r\") as f:\n",
        "        print(f.read())\n",
        "else:\n",
        "    print(\"File does not exist\")"
      ],
      "metadata": {
        "id": "3CzTI7kG_p3C"
      },
      "execution_count": null,
      "outputs": []
    },
    {
      "cell_type": "code",
      "source": [
        "# 14. Write a program that uses the logging module to log both informational and error messages\n",
        "logging.basicConfig(filename=\"app.log\", level=logging.DEBUG)\n",
        "logging.info(\"Program started\")\n",
        "try:\n",
        "    x = 1 / 0\n",
        "except ZeroDivisionError:\n",
        "    logging.error(\"Zero division error occurred\")"
      ],
      "metadata": {
        "id": "gmu6oZBE_rtp"
      },
      "execution_count": null,
      "outputs": []
    },
    {
      "cell_type": "code",
      "source": [
        "# 15. Write a Python program that prints the content of a file and handles the case when the file is empty\n",
        "with open(\"empty.txt\", \"r\") as f:\n",
        "    content = f.read()\n",
        "    if not content:\n",
        "        print(\"The file is empty\")\n",
        "    else:\n",
        "        print(content)\n"
      ],
      "metadata": {
        "id": "_dYUPiLq_tih"
      },
      "execution_count": null,
      "outputs": []
    },
    {
      "cell_type": "code",
      "source": [
        "# 16. Demonstrate how to use memory profiling to check the memory usage of a small program.\n",
        "import psutil\n",
        "import os\n",
        "\n",
        "def memory_usage():\n",
        "    process = psutil.Process(os.getpid())\n",
        "    print(f\"Memory Usage: {process.memory_info().rss / 1024 ** 2:.2f} MB\")\n",
        "\n",
        "def create_large_list():\n",
        "    memory_usage()\n",
        "    data = [x for x in range(10**6)]\n",
        "    memory_usage()\n",
        "    return data\n",
        "\n",
        "create_large_list()\n"
      ],
      "metadata": {
        "id": "qlK0uhPm_xqB"
      },
      "execution_count": null,
      "outputs": []
    },
    {
      "cell_type": "code",
      "source": [
        "# 17. Write a Python program to create and write a list of numbers to a file, one number per line\n",
        "numbers = [1, 2, 3, 4, 5]\n",
        "with open(\"numbers.txt\", \"w\") as f:\n",
        "    for number in numbers:\n",
        "        f.write(f\"{number}\\n\")\n"
      ],
      "metadata": {
        "id": "dtv935AH_z0B"
      },
      "execution_count": null,
      "outputs": []
    },
    {
      "cell_type": "code",
      "source": [
        "# 18. How would you implement a basic logging setup that logs to a file with rotation after 1MB\n",
        "from logging.handlers import RotatingFileHandler\n",
        "logger = logging.getLogger(\"rotating_logger\")\n",
        "logger.setLevel(logging.INFO)\n",
        "handler = RotatingFileHandler(\"rotating.log\", maxBytes=1024*1024, backupCount=5)\n",
        "logger.addHandler(handler)\n",
        "logger.info(\"Rotating log setup complete\")\n"
      ],
      "metadata": {
        "id": "h-4QVd5dAAAJ"
      },
      "execution_count": null,
      "outputs": []
    },
    {
      "cell_type": "code",
      "source": [
        "# 19. Write a program that handles both IndexError and KeyError using a try-except block\n",
        "try:\n",
        "    lst = [1, 2, 3]\n",
        "    print(lst[5])\n",
        "    d = {\"x\": 1}\n",
        "    print(d[\"y\"])\n",
        "except IndexError:\n",
        "    print(\"Index out of range\")\n",
        "except KeyError:\n",
        "    print(\"Key does not exist\")"
      ],
      "metadata": {
        "id": "UPBoOQy2_6w5"
      },
      "execution_count": null,
      "outputs": []
    },
    {
      "cell_type": "code",
      "source": [
        "# 20. How would you open a file and read its contents using a context manager in Python\n",
        "with open(\"output.txt\", \"r\") as f:\n",
        "    print(f.read())"
      ],
      "metadata": {
        "id": "nv9L1rOTAA_6"
      },
      "execution_count": null,
      "outputs": []
    },
    {
      "cell_type": "code",
      "source": [
        "# 21. Write a Python program that reads a file and prints the number of occurrences of a specific word\n",
        "word = \"the\"\n",
        "count = 0\n",
        "with open(\"output.txt\", \"r\") as f:\n",
        "    for line in f:\n",
        "        count += line.lower().count(word)\n",
        "print(f\"'{word}' found {count} times\")"
      ],
      "metadata": {
        "id": "naWO_99nAELB"
      },
      "execution_count": null,
      "outputs": []
    },
    {
      "cell_type": "code",
      "source": [
        "# 22. How can you check if a file is empty before attempting to read its contents\n",
        "if os.path.exists(\"output.txt\") and os.path.getsize(\"output.txt\") > 0:\n",
        "    with open(\"output.txt\", \"r\") as f:\n",
        "        print(f.read())\n",
        "else:\n",
        "    print(\"File is empty or does not exist\")"
      ],
      "metadata": {
        "id": "6d6GFmKFAF-i"
      },
      "execution_count": null,
      "outputs": []
    },
    {
      "cell_type": "code",
      "source": [
        "# 23. Write a Python program that writes to a log file when an error occurs during file handling.\n",
        "try:\n",
        "    with open(\"nonexistent.txt\", \"r\") as f:\n",
        "        print(f.read())\n",
        "except Exception as e:\n",
        "    logging.error(\"File handling error: %s\", e)\n"
      ],
      "metadata": {
        "id": "E7VCaeFqAHwB"
      },
      "execution_count": null,
      "outputs": []
    }
  ]
}