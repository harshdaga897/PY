{
  "nbformat": 4,
  "nbformat_minor": 0,
  "metadata": {
    "colab": {
      "provenance": []
    },
    "kernelspec": {
      "name": "python3",
      "display_name": "Python 3"
    },
    "language_info": {
      "name": "python"
    }
  },
  "cells": [
    {
      "cell_type": "markdown",
      "source": [
        "## Theory\n"
      ],
      "metadata": {
        "id": "3fe-1FKU1mip"
      }
    },
    {
      "cell_type": "markdown",
      "source": [
        "1. What is Object-Oriented Programming (OOP)?\n",
        "\n",
        "OOP is a programming paradigm based on objects, which contain both data (attributes) and behavior (methods). It promotes modular, reusable, and organized code.\n",
        "\n",
        "---\n",
        "2. What is a class in OOP?\n",
        "\n",
        "A class is a blueprint for creating objects. It defines attributes and methods that describe an object’s behavior and state.\n",
        "\n",
        "---\n",
        "3. What is an object in OOP?\n",
        "\n",
        "An object is an instance of a class. It has actual values for the class attributes and can use class methods.\n",
        "\n",
        "---\n",
        "4. What is the difference between abstraction and encapsulation?\n",
        "\n",
        "- **Abstraction** hides implementation details and shows only relevant features.\n",
        "- **Encapsulation** bundles data and methods, restricting direct access to some components.\n",
        "\n",
        "---\n",
        "5. What are dunder methods in Python?\n",
        "\n",
        "Dunder (double underscore) methods are special methods like `__init__`, `__str__`, `__repr__`, `__len__`. They enable custom behavior for standard Python operations.\n",
        "\n",
        "---\n",
        "6. Explain the concept of inheritance in OOP.\n",
        "\n",
        "Inheritance allows a child class to inherit properties and behavior from a parent class, enabling code reuse.\n",
        "\n",
        "---\n",
        "7. What is polymorphism in OOP?\n",
        "\n",
        "Polymorphism means the same function or method behaves differently depending on the object it is acting on.\n",
        "\n",
        "---\n",
        "8. How is encapsulation achieved in Python?\n",
        "\n",
        "By using:\n",
        "- `_protected` and `__private` attributes.\n",
        "- Getter and setter methods or `@property`.\n",
        "\n",
        "---\n",
        "9. What is a constructor in Python?\n",
        "\n",
        "`__init__()` is the constructor method in Python, used to initialize object attributes during instantiation.\n",
        "\n",
        "---\n",
        "\n",
        "## 10. What are class and static methods in Python?\n",
        "\n",
        "- `@classmethod`: Takes `cls` as the first argument. Can access class variables.\n",
        "- `@staticmethod`: Takes neither `self` nor `cls`. Used for utility functions.\n",
        "\n",
        "---\n",
        "11. What is method overloading in Python?\n",
        "\n",
        "Python doesn’t support traditional method overloading. You can mimic it using default or variable-length arguments.\n",
        "\n",
        "---\n",
        "12. What is method overriding in OOP?\n",
        "\n",
        "A subclass provides its own version of a method defined in the parent class.\n",
        "\n",
        "---\n",
        "13. What is a property decorator in Python?\n",
        "\n",
        "`@property` is used to make a method act like an attribute. It is used for controlled access to private attributes.\n",
        "\n",
        "---\n",
        "14. Why is polymorphism important in OOP?\n",
        "\n",
        "It allows writing generic and flexible code that can handle different object types in a unified way.\n",
        "\n",
        "---\n",
        "15. What is an abstract class in Python?\n",
        "\n",
        "An abstract class can’t be instantiated and is meant to be subclassed. It uses the `abc` module and contains abstract methods.\n",
        "\n",
        "---\n",
        "16. What are the advantages of OOP?\n",
        "\n",
        "- Code Reusability\n",
        "- Modularity\n",
        "- Maintainability\n",
        "- Scalability\n",
        "- Real-world modeling\n",
        "\n",
        "---\n",
        "17. What is multiple inheritance in Python?\n",
        "\n",
        "Multiple inheritance allows a class to inherit from more than one parent class. This means a single class can access attributes and methods from multiple base classes.\n",
        "\n",
        "---\n",
        "18. What is the difference between a class variable and an instance variable?\n",
        "\n",
        "- Class Variable: Shared across all instances of a class.\n",
        "- Instance Variable: Unique to each instance.\n",
        "Class variables are defined outside of any method, while instance variables are usually defined inside the constructor using self.\n",
        "\n",
        "---\n",
        "19. Explain the purpose of __str__ and __repr__ methods in Python.\n",
        "\n",
        "- __str__: Provides a readable, user-friendly string representation of an object. Used by print().\n",
        "- __repr__: Provides an unambiguous, developer-focused representation. Used for debugging and logging. Called by the repr() function.\n",
        "\n",
        "---\n",
        "20. What is the significance of the super() function in Python?\n",
        "\n",
        "super() is used to call methods (usually the constructor) of a parent class. It allows access to inherited methods that have been overridden.\n",
        "\n",
        "---\n",
        "21. What is the significance of the __del__ method in Python?\n",
        "\n",
        "__del__ is the destructor method. It is called when an object is about to be destroyed, useful for cleanup tasks like closing files or releasing resources.\n",
        "\n",
        "---\n",
        "22. What is the difference between @staticmethod and @classmethod in Python?\n",
        "\n",
        "- @staticmethod: Does not take self or cls as the first argument. It behaves like a regular function inside a class.\n",
        "- @classmethod: Takes cls (the class itself) as the first argument. It can modify class-level data.\n",
        "\n",
        "---\n",
        "23. How does polymorphism work in Python with inheritance?\n",
        "\n",
        "Polymorphism allows different classes to use methods with the same name but different implementations. This enables writing more generic and flexible code. It works through method overriding.\n",
        "\n",
        "---\n",
        "24. What is method chaining in Python OOP?\n",
        "\n",
        "Method chaining allows calling multiple methods on the same object in a single line. To enable it, each method must return self.\n",
        "\n",
        "---\n",
        "25. What is the purpose of the __call__ method in Python?\n",
        "\n",
        "__call__ allows an instance of a class to be used like a function. Defining __call__ in a class makes its objects callable."
      ],
      "metadata": {
        "id": "2WQ-mXtm2Rdx"
      }
    },
    {
      "cell_type": "markdown",
      "source": [
        "## Practical"
      ],
      "metadata": {
        "id": "G8yPKxuz7emC"
      }
    },
    {
      "cell_type": "code",
      "source": [
        "# 1. Create a parent class Animal with a method speak() that prints a generic message.\n",
        "class Animal:\n",
        "    def speak(self):\n",
        "        print(\"Animal speaks\")\n",
        "\n",
        "class Dog(Animal):\n",
        "    def speak(self):\n",
        "        print(\"Bark!\")\n",
        "\n",
        "Dog().speak()\n"
      ],
      "metadata": {
        "colab": {
          "base_uri": "https://localhost:8080/"
        },
        "id": "hQ54HFox7h4J",
        "outputId": "e1c59a18-beb3-4b12-ca49-d9e1e26df794"
      },
      "execution_count": null,
      "outputs": [
        {
          "output_type": "stream",
          "name": "stdout",
          "text": [
            "Bark!\n"
          ]
        }
      ]
    },
    {
      "cell_type": "code",
      "source": [
        "# 2. Write a program to create an abstract class Shape with a method area().\n",
        "from abc import ABC, abstractmethod\n",
        "\n",
        "class Shape(ABC):\n",
        "    @abstractmethod\n",
        "    def area(self):\n",
        "        pass\n",
        "\n",
        "class Circle(Shape):\n",
        "    def __init__(self, radius):\n",
        "        self.radius = radius\n",
        "\n",
        "    def area(self):\n",
        "        return 3.14 * self.radius ** 2\n",
        "\n",
        "class Rectangle(Shape):\n",
        "    def __init__(self, length, width):\n",
        "        self.length = length\n",
        "        self.width = width\n",
        "\n",
        "    def area(self):\n",
        "        return self.length * self.width\n",
        "\n",
        "print(Circle(5).area())\n",
        "print(Rectangle(4, 6).area())\n"
      ],
      "metadata": {
        "colab": {
          "base_uri": "https://localhost:8080/"
        },
        "id": "h8Jl3cTh8kh6",
        "outputId": "426640f9-a502-4f37-d145-78c0f496b5db"
      },
      "execution_count": null,
      "outputs": [
        {
          "output_type": "stream",
          "name": "stdout",
          "text": [
            "78.5\n",
            "24\n"
          ]
        }
      ]
    },
    {
      "cell_type": "code",
      "source": [
        "# 3. Implement a multi-level inheritance scenario where a class Vehicle has an attribute type.\n",
        "class Vehicle:\n",
        "    def __init__(self, v_type):\n",
        "        self.type = v_type\n",
        "\n",
        "class Car(Vehicle):\n",
        "    def __init__(self, v_type, brand):\n",
        "        super().__init__(v_type)\n",
        "        self.brand = brand\n",
        "\n",
        "class ElectricCar(Car):\n",
        "    def __init__(self, v_type, brand, battery):\n",
        "        super().__init__(v_type, brand)\n",
        "        self.battery = battery\n",
        "\n",
        "my_ecar = ElectricCar(\"Car\", \"Tesla\", \"100 kWh\")\n",
        "print(my_ecar.type, my_ecar.brand, my_ecar.battery)\n"
      ],
      "metadata": {
        "colab": {
          "base_uri": "https://localhost:8080/"
        },
        "id": "KR3dzpUN8o_p",
        "outputId": "6125b715-b186-4015-ce83-70ecdd548aa6"
      },
      "execution_count": null,
      "outputs": [
        {
          "output_type": "stream",
          "name": "stdout",
          "text": [
            "Car Tesla 100 kWh\n"
          ]
        }
      ]
    },
    {
      "cell_type": "code",
      "source": [
        "# 4. Demonstrate polymorphism by creating a base class Bird with a method fly().\n",
        "class Bird:\n",
        "    def fly(self):\n",
        "        print(\"Bird is flying\")\n",
        "\n",
        "class Sparrow(Bird):\n",
        "    def fly(self):\n",
        "        print(\"Sparrow flies high\")\n",
        "\n",
        "class Penguin(Bird):\n",
        "    def fly(self):\n",
        "        print(\"Penguins can't fly\")\n",
        "\n",
        "for bird in [Sparrow(), Penguin()]:\n",
        "    bird.fly()\n"
      ],
      "metadata": {
        "colab": {
          "base_uri": "https://localhost:8080/"
        },
        "id": "gWdedLhX8tLJ",
        "outputId": "b29253df-afd7-40c7-c3c0-735182ac6fae"
      },
      "execution_count": null,
      "outputs": [
        {
          "output_type": "stream",
          "name": "stdout",
          "text": [
            "Sparrow flies high\n",
            "Penguins can't fly\n"
          ]
        }
      ]
    },
    {
      "cell_type": "code",
      "source": [
        "# 5. Write a program to demonstrate encapsulation by creating a class BankAccount\n",
        "class BankAccount:\n",
        "    def __init__(self):\n",
        "        self.__balance = 0\n",
        "\n",
        "    def deposit(self, amount):\n",
        "        self.__balance += amount\n",
        "\n",
        "    def withdraw(self, amount):\n",
        "        if amount <= self.__balance:\n",
        "            self.__balance -= amount\n",
        "        else:\n",
        "            print(\"Insufficient balance\")\n",
        "\n",
        "    def get_balance(self):\n",
        "        return self.__balance\n",
        "\n",
        "acc = BankAccount()\n",
        "acc.deposit(500)\n",
        "acc.withdraw(100)\n",
        "print(acc.get_balance())\n"
      ],
      "metadata": {
        "colab": {
          "base_uri": "https://localhost:8080/"
        },
        "id": "WQEzjw_o8wh5",
        "outputId": "835902aa-34cd-4ada-d51e-cdf9485c7670"
      },
      "execution_count": null,
      "outputs": [
        {
          "output_type": "stream",
          "name": "stdout",
          "text": [
            "400\n"
          ]
        }
      ]
    },
    {
      "cell_type": "code",
      "source": [
        "# 6. Demonstrate runtime polymorphism using a method play() in a base class Instrument. Derive classes Guitar and Piano that implement their own version of play().\n",
        "class Instrument:\n",
        "    def play(self):\n",
        "        print(\"Playing instrument\")\n",
        "\n",
        "class Guitar(Instrument):\n",
        "    def play(self):\n",
        "        print(\"Strumming the guitar\")\n",
        "\n",
        "class Piano(Instrument):\n",
        "    def play(self):\n",
        "        print(\"Playing the piano\")\n",
        "\n",
        "for instrument in [Guitar(), Piano()]:\n",
        "    instrument.play()\n"
      ],
      "metadata": {
        "colab": {
          "base_uri": "https://localhost:8080/"
        },
        "id": "HmayA1fD80qp",
        "outputId": "e4fd700b-f533-4e9e-a951-7ec3a9fd8ddd"
      },
      "execution_count": null,
      "outputs": [
        {
          "output_type": "stream",
          "name": "stdout",
          "text": [
            "Strumming the guitar\n",
            "Playing the piano\n"
          ]
        }
      ]
    },
    {
      "cell_type": "code",
      "source": [
        "# 7. Create a class MathOperations with a class method add_numbers() to add two numbers and a static method subtract_numbers() to subtract two numbers.\n",
        "class MathOperations:\n",
        "    @classmethod\n",
        "    def add_numbers(cls, a, b):\n",
        "        return a + b\n",
        "\n",
        "    @staticmethod\n",
        "    def subtract_numbers(a, b):\n",
        "        return a - b\n",
        "\n",
        "print(MathOperations.add_numbers(10, 5))\n",
        "print(MathOperations.subtract_numbers(10, 5))\n"
      ],
      "metadata": {
        "colab": {
          "base_uri": "https://localhost:8080/"
        },
        "id": "jzij0cnc82lR",
        "outputId": "b2ddd82f-a19b-4cfc-9f67-1f2735a3969d"
      },
      "execution_count": null,
      "outputs": [
        {
          "output_type": "stream",
          "name": "stdout",
          "text": [
            "15\n",
            "5\n"
          ]
        }
      ]
    },
    {
      "cell_type": "code",
      "source": [
        "# 8. Implement a class Person with a class method to count the total number of persons created.\n",
        "class Person:\n",
        "    count = 0\n",
        "\n",
        "    def __init__(self):\n",
        "        Person.count += 1\n",
        "\n",
        "    @classmethod\n",
        "    def total_persons(cls):\n",
        "        return cls.count\n",
        "\n",
        "p1 = Person()\n",
        "p2 = Person()\n",
        "print(Person.total_persons())\n"
      ],
      "metadata": {
        "colab": {
          "base_uri": "https://localhost:8080/"
        },
        "id": "xPmYVg7c85Kp",
        "outputId": "1eed7e48-28cc-4471-ec97-063d4431ab5a"
      },
      "execution_count": null,
      "outputs": [
        {
          "output_type": "stream",
          "name": "stdout",
          "text": [
            "2\n"
          ]
        }
      ]
    },
    {
      "cell_type": "code",
      "source": [
        "# 9. Write a class Fraction with attributes numerator and denominator. Override the str method to display the fraction as \"numerator/denominator\".\n",
        "class Fraction:\n",
        "    def __init__(self, numerator, denominator):\n",
        "        self.numerator = numerator\n",
        "        self.denominator = denominator\n",
        "\n",
        "    def __str__(self):\n",
        "        return f\"{self.numerator}/{self.denominator}\"\n",
        "\n",
        "print(Fraction(3, 4))\n"
      ],
      "metadata": {
        "colab": {
          "base_uri": "https://localhost:8080/"
        },
        "id": "PQzqfA5P864p",
        "outputId": "dc411b1d-171b-4735-8132-657f2bdb6516"
      },
      "execution_count": null,
      "outputs": [
        {
          "output_type": "stream",
          "name": "stdout",
          "text": [
            "3/4\n"
          ]
        }
      ]
    },
    {
      "cell_type": "code",
      "source": [
        "# 10. Demonstrate operator overloading by creating a class Vector and overriding the add method to add two vectors.\n",
        "class Vector:\n",
        "    def __init__(self, x, y):\n",
        "        self.x = x\n",
        "        self.y = y\n",
        "\n",
        "    def __add__(self, other):\n",
        "        return Vector(self.x + other.x, self.y + other.y)\n",
        "\n",
        "    def __str__(self):\n",
        "        return f\"Vector({self.x}, {self.y})\"\n",
        "\n",
        "v1 = Vector(1, 2)\n",
        "v2 = Vector(3, 4)\n",
        "print(v1 + v2)\n"
      ],
      "metadata": {
        "colab": {
          "base_uri": "https://localhost:8080/"
        },
        "id": "MKk1uyV488MZ",
        "outputId": "81b5a868-6f65-43fe-a191-5c219d4aafdb"
      },
      "execution_count": null,
      "outputs": [
        {
          "output_type": "stream",
          "name": "stdout",
          "text": [
            "Vector(4, 6)\n"
          ]
        }
      ]
    },
    {
      "cell_type": "code",
      "source": [
        "# 11. Create a class Person with attributes name and age. Add a method greet() that prints \"Hello, my name is {name} and I am {age} years old.\"\n",
        "class Person:\n",
        "    def __init__(self, name, age):\n",
        "        self.name = name\n",
        "        self.age = age\n",
        "\n",
        "    def greet(self):\n",
        "        print(f\"Hello, my name is {self.name} and I am {self.age} years old.\")\n",
        "\n",
        "p = Person(\"Alice\", 30)\n",
        "p.greet()\n"
      ],
      "metadata": {
        "colab": {
          "base_uri": "https://localhost:8080/"
        },
        "id": "NP0iqM4V89wx",
        "outputId": "09f90cc0-a12e-4109-a95c-afc2dc111ee5"
      },
      "execution_count": null,
      "outputs": [
        {
          "output_type": "stream",
          "name": "stdout",
          "text": [
            "Hello, my name is Alice and I am 30 years old.\n"
          ]
        }
      ]
    },
    {
      "cell_type": "code",
      "source": [
        "# 12. Implement a class Student with attributes name and grades. Create a method average_grade() to compute the average of the grades.\n",
        "class Student:\n",
        "    def __init__(self, name, grades):\n",
        "        self.name = name\n",
        "        self.grades = grades\n",
        "\n",
        "    def average_grade(self):\n",
        "        return sum(self.grades) / len(self.grades)\n",
        "\n",
        "s = Student(\"Bob\", [90, 80, 85])\n",
        "print(s.average_grade())\n"
      ],
      "metadata": {
        "colab": {
          "base_uri": "https://localhost:8080/"
        },
        "id": "qQFuWer78_Ji",
        "outputId": "6723d186-d2e9-40c1-a063-bd38488b1001"
      },
      "execution_count": null,
      "outputs": [
        {
          "output_type": "stream",
          "name": "stdout",
          "text": [
            "85.0\n"
          ]
        }
      ]
    },
    {
      "cell_type": "code",
      "source": [
        "# 13. Create a class Rectangle with methods set_dimensions() to set the dimensions and area() to calculate the area.\n",
        "class Rectangle:\n",
        "    def set_dimensions(self, length, width):\n",
        "        self.length = length\n",
        "        self.width = width\n",
        "\n",
        "    def area(self):\n",
        "        return self.length * self.width\n",
        "\n",
        "r = Rectangle()\n",
        "r.set_dimensions(5, 3)\n",
        "print(r.area())\n"
      ],
      "metadata": {
        "colab": {
          "base_uri": "https://localhost:8080/"
        },
        "id": "_zx7p1Wb9Api",
        "outputId": "86835656-33ad-464a-e615-244d4b2bec3f"
      },
      "execution_count": null,
      "outputs": [
        {
          "output_type": "stream",
          "name": "stdout",
          "text": [
            "15\n"
          ]
        }
      ]
    },
    {
      "cell_type": "code",
      "source": [
        "# 14. Create a class Employee with a method calculate_salary() that computes the salary based on hours worked and hourly rate. Create a derived class Manager that adds a bonus to the salary.\n",
        "class Employee:\n",
        "    def calculate_salary(self, hours, rate):\n",
        "        return hours * rate\n",
        "\n",
        "class Manager(Employee):\n",
        "    def calculate_salary(self, hours, rate, bonus=0):\n",
        "        return super().calculate_salary(hours, rate) + bonus\n",
        "\n",
        "m = Manager()\n",
        "print(m.calculate_salary(40, 20, 200))\n"
      ],
      "metadata": {
        "colab": {
          "base_uri": "https://localhost:8080/"
        },
        "id": "F7Gt6Esq9CVp",
        "outputId": "ef25e004-5235-438d-a922-95399f9479d2"
      },
      "execution_count": null,
      "outputs": [
        {
          "output_type": "stream",
          "name": "stdout",
          "text": [
            "1000\n"
          ]
        }
      ]
    },
    {
      "cell_type": "code",
      "source": [
        "# 15. Create a class Product with attributes name, price, and quantity. Implement a method total_price() that calculates the total price of the product.\n",
        "class Product:\n",
        "    def __init__(self, name, price, quantity):\n",
        "        self.name = name\n",
        "        self.price = price\n",
        "        self.quantity = quantity\n",
        "\n",
        "    def total_price(self):\n",
        "        return self.price * self.quantity\n",
        "\n",
        "item = Product(\"Laptop\", 1000, 2)\n",
        "print(item.total_price())\n"
      ],
      "metadata": {
        "colab": {
          "base_uri": "https://localhost:8080/"
        },
        "id": "IQXVojPy9Dsj",
        "outputId": "69d6e0d7-6ebb-4aa5-b2b3-1b4b3cb62125"
      },
      "execution_count": null,
      "outputs": [
        {
          "output_type": "stream",
          "name": "stdout",
          "text": [
            "2000\n"
          ]
        }
      ]
    },
    {
      "cell_type": "code",
      "source": [
        "# 16. Create a class Animal with an abstract method sound(). Create two derived classes Cow and Sheep that implement the sound() method.\n",
        "from abc import ABC, abstractmethod\n",
        "\n",
        "class Animal(ABC):\n",
        "    @abstractmethod\n",
        "    def sound(self):\n",
        "        pass\n",
        "\n",
        "class Cow(Animal):\n",
        "    def sound(self):\n",
        "        print(\"Moo\")\n",
        "\n",
        "class Sheep(Animal):\n",
        "    def sound(self):\n",
        "        print(\"Baa\")\n",
        "\n",
        "Cow().sound()\n",
        "Sheep().sound()\n"
      ],
      "metadata": {
        "colab": {
          "base_uri": "https://localhost:8080/"
        },
        "id": "pmH5I8MA9FHR",
        "outputId": "ba7abce0-9348-4ea6-d37a-ee0a584b1cbd"
      },
      "execution_count": null,
      "outputs": [
        {
          "output_type": "stream",
          "name": "stdout",
          "text": [
            "Moo\n",
            "Baa\n"
          ]
        }
      ]
    },
    {
      "cell_type": "code",
      "source": [
        "# 17. Create a class Book with attributes title, author, and year_published. Add a method get_book_info() that returns a formatted string with the book's details.\n",
        "class Book:\n",
        "    def __init__(self, title, author, year_published):\n",
        "        self.title = title\n",
        "        self.author = author\n",
        "        self.year = year_published\n",
        "\n",
        "    def get_book_info(self):\n",
        "        return f\"{self.title} by {self.author}, published in {self.year}\"\n",
        "\n",
        "b = Book(\"1984\", \"George Orwell\", 1949)\n",
        "print(b.get_book_info())\n"
      ],
      "metadata": {
        "colab": {
          "base_uri": "https://localhost:8080/"
        },
        "id": "sZw7fEbD9Giy",
        "outputId": "68a483d6-fdd1-4405-fbe2-9e323ed621bb"
      },
      "execution_count": null,
      "outputs": [
        {
          "output_type": "stream",
          "name": "stdout",
          "text": [
            "1984 by George Orwell, published in 1949\n"
          ]
        }
      ]
    },
    {
      "cell_type": "code",
      "source": [
        "# 18. Create a class House with attributes address and price. Create a derived class Mansion that adds an attribute number_of_rooms.\n",
        "class House:\n",
        "    def __init__(self, address, price):\n",
        "        self.address = address\n",
        "        self.price = price\n",
        "\n",
        "class Mansion(House):\n",
        "    def __init__(self, address, price, number_of_rooms):\n",
        "        super().__init__(address, price)\n",
        "        self.number_of_rooms = number_of_rooms\n",
        "\n",
        "m = Mansion(\"123 Elm St\", 1000000, 10)\n",
        "print(m.address, m.price, m.number_of_rooms)\n"
      ],
      "metadata": {
        "colab": {
          "base_uri": "https://localhost:8080/"
        },
        "id": "tMtuwrtM9H97",
        "outputId": "a48261c7-bc75-4508-f3ff-5d9045202190"
      },
      "execution_count": null,
      "outputs": [
        {
          "output_type": "stream",
          "name": "stdout",
          "text": [
            "123 Elm St 1000000 10\n"
          ]
        }
      ]
    }
  ]
}