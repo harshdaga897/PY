{
  "nbformat": 4,
  "nbformat_minor": 0,
  "metadata": {
    "colab": {
      "provenance": []
    },
    "kernelspec": {
      "name": "python3",
      "display_name": "Python 3"
    },
    "language_info": {
      "name": "python"
    }
  },
  "cells": [
    {
      "cell_type": "markdown",
      "source": [
        "## Theory\n"
      ],
      "metadata": {
        "id": "Kdv7jQRmZNhJ"
      }
    },
    {
      "cell_type": "markdown",
      "source": [
        "1. What is statistics, and why is it important?\n",
        "\n",
        "  Statistics is the science of collecting, analyzing, interpreting, presenting, and organizing data. It is important because it helps in making informed decisions, identifying trends, and understanding data patterns in various fields like business, healthcare, government, and research.\n",
        "\n",
        "2. What are the two main types of statistics?\n",
        "\n",
        "  Descriptive Statistics\n",
        "\n",
        "  Inferential Statistics\n",
        "\n",
        "3. What are descriptive statistics?\n",
        "  \n",
        "  Descriptive statistics summarize and organize characteristics of a data set using measures such as mean, median, mode, range, and standard deviation.\n",
        "\n",
        "4. What is inferential statistics?\n",
        "\n",
        "  Inferential statistics use data from a sample to make estimates, predictions, or decisions about a population.\n",
        "\n",
        "5. What is sampling in statistics?\n",
        "\n",
        "  Sampling is the process of selecting a subset (sample) from a larger population to estimate characteristics of the whole population.\n",
        "\n",
        "6. What are the different types of sampling methods?\n",
        "\n",
        "  Random Sampling\n",
        "\n",
        "  Stratified Sampling\n",
        "\n",
        "  Systematic Sampling\n",
        "\n",
        "  Cluster Sampling\n",
        "\n",
        " Convenience Sampling\n",
        "\n",
        "  Quota Sampling\n",
        "\n",
        "7. What is the difference between random and non-random sampling?\n",
        "\n",
        "  Random Sampling: Every individual has an equal chance of being selected.\n",
        "\n",
        "  Non-Random Sampling: Selection is based on certain criteria or convenience, not on random chance.\n",
        "\n",
        "8. Define and give examples of qualitative and quantitative data.\n",
        "\n",
        "  Qualitative Data: Descriptive data (e.g., colors, names, labels). Example: Eye color, type of car.\n",
        "\n",
        "  Quantitative Data: Numerical data (e.g., height, weight, age). Example: 170 cm, 25 years.\n",
        "\n",
        "9. What are the different types of data in statistics?\n",
        "\n",
        "  Qualitative (Categorical)\n",
        "\n",
        "  Quantitative (Numerical)\n",
        "\n",
        "  Discrete\n",
        "\n",
        "  Continuous\n",
        "\n",
        "10. Explain nominal, ordinal, interval, and ratio levels of measurement.\n",
        "\n",
        "  Nominal: Categories with no order (e.g., gender, colors)\n",
        "\n",
        "  Ordinal: Ordered categories (e.g., ranks, satisfaction levels)\n",
        "\n",
        "  Interval: Numeric scales with equal intervals, no true zero (e.g., temperature in Celsius)\n",
        "\n",
        "  Ratio: Like interval but with a true zero (e.g., height, weight)\n",
        "\n",
        "11. What is the measure of central tendency?\n",
        "  \n",
        "  It refers to values that represent the center or middle of a data set: mean, median, and mode.\n",
        "\n",
        "12. Define mean, median, and mode.\n",
        "\n",
        "  Mean: The average of all values.\n",
        "\n",
        "  Median: The middle value when data is ordered.\n",
        "\n",
        "  Mode: The most frequently occurring value.\n",
        "\n",
        "13. What is the significance of the measure of central tendency?\n",
        "\n",
        "  It provides a summary measure that describes the center point of a dataset, helping to understand the data distribution.\n",
        "\n",
        "14. What is variance, and how is it calculated?\n",
        "\n",
        "  Variance measures how much data points differ from the mean.\n",
        "  Formula (sample):\n",
        "  s² = (1 / (n - 1)) × Σ(xᵢ - x̄)²\n",
        "\n",
        "15. What is standard deviation, and why is it important?\n",
        "  \n",
        "  Standard deviation is the square root of variance and shows how spread out the values in a data set are. It’s important for understanding the variability in the data.\n",
        "\n",
        "16. Define and explain the term range in statistics.\n",
        "\n",
        "  Range is the difference between the maximum and minimum values in a dataset.\n",
        "  Range = Max - Min\n",
        "\n",
        "17. What is the difference between variance and standard deviation?\n",
        "\n",
        "  Variance is the average of the squared deviations from the mean.\n",
        "\n",
        "  Standard deviation is the square root of the variance.\n",
        "\n",
        "18. What is skewness in a dataset?\n",
        "\n",
        "  Skewness measures the asymmetry of the distribution of values. It shows whether data is skewed to the left or right.\n",
        "\n",
        "19. What does it mean if a dataset is positively or negatively skewed?\n",
        "\n",
        "  Positively Skewed: Tail on the right; mean > median.\n",
        "\n",
        "  Negatively Skewed: Tail on the left; mean < median.\n",
        "\n",
        "20. Define and explain kurtosis.\n",
        "  \n",
        "  Kurtosis measures the \"tailedness\" of the data distribution:\n",
        "\n",
        "  High Kurtosis: More outliers, heavy tails.\n",
        "\n",
        "  Low Kurtosis: Fewer outliers, light tails.\n",
        "\n",
        "21. What is the purpose of covariance?\n",
        "\n",
        "  Covariance shows the direction of the linear relationship between two variables.\n",
        "\n",
        "22. What does correlation measure in statistics?\n",
        "\n",
        "  Correlation quantifies the strength and direction of the linear relationship between two variables, typically between -1 and 1.\n",
        "\n",
        "23. What is the difference between covariance and correlation?\n",
        "\n",
        "  Covariance: Measures direction of relationship; values are unstandardized.\n",
        "\n",
        "  Correlation: Standardized measure of the strength and direction.\n",
        "\n",
        "24. What are some real-world applications of statistics?\n",
        "\n",
        "  Healthcare (clinical trials)\n",
        "\n",
        "  Business (market analysis)\n",
        "\n",
        "  Government (census, policy planning)\n",
        "\n",
        "  Sports (performance analytics)\n",
        "\n",
        "  Education (assessment and testing)"
      ],
      "metadata": {
        "id": "Emq_okjaZQJv"
      }
    },
    {
      "cell_type": "markdown",
      "source": [
        "## Practical"
      ],
      "metadata": {
        "id": "dFhq3HEv4sgu"
      }
    },
    {
      "cell_type": "code",
      "source": [
        "# 1. Calculate the mean, median, and mode of a dataset\n",
        "import statistics\n",
        "\n",
        "data = [10, 20, 30, 40, 40, 50]\n",
        "print(\"Mean:\", statistics.mean(data))\n",
        "print(\"Median:\", statistics.median(data))\n",
        "print(\"Mode:\", statistics.mode(data))\n"
      ],
      "metadata": {
        "colab": {
          "base_uri": "https://localhost:8080/"
        },
        "id": "nFWWjtTg4u5P",
        "outputId": "910dfe74-42a6-4d52-e21f-acd56fa9de4d"
      },
      "execution_count": 1,
      "outputs": [
        {
          "output_type": "stream",
          "name": "stdout",
          "text": [
            "Mean: 31.666666666666668\n",
            "Median: 35.0\n",
            "Mode: 40\n"
          ]
        }
      ]
    },
    {
      "cell_type": "code",
      "source": [
        "# 2. Write a Python program to compute the variance and standard deviation of a dataset\n",
        "data = [10, 20, 30, 40, 50]\n",
        "print(\"Variance:\", statistics.variance(data))\n",
        "print(\"Standard Deviation:\", statistics.stdev(data))\n"
      ],
      "metadata": {
        "colab": {
          "base_uri": "https://localhost:8080/"
        },
        "id": "rSuZe_Dk7kzF",
        "outputId": "03b40ac8-af76-4fd6-e40b-808ef9eb6485"
      },
      "execution_count": 2,
      "outputs": [
        {
          "output_type": "stream",
          "name": "stdout",
          "text": [
            "Variance: 250\n",
            "Standard Deviation: 15.811388300841896\n"
          ]
        }
      ]
    },
    {
      "cell_type": "code",
      "source": [
        "# 3. Create a dataset and classify it into nominal, ordinal, interval, and ratio types\n",
        "colors = [\"Red\", \"Green\", \"Blue\"]\n",
        "education_levels = [\"High School\", \"Bachelor's\", \"Master's\", \"PhD\"]\n",
        "temperatures = [20, 25, 30]\n",
        "weights = [60, 70, 80]\n"
      ],
      "metadata": {
        "id": "fdmRvLH67oJN"
      },
      "execution_count": 3,
      "outputs": []
    },
    {
      "cell_type": "code",
      "source": [
        "# 4. Implement sampling techniques like random sampling and stratified sampling\n",
        "import pandas as pd\n",
        "from sklearn.model_selection import train_test_split\n",
        "\n",
        "data = pd.DataFrame({'Age': [20, 21, 22, 23, 24, 25],\n",
        "                     'Gender': ['M', 'F', 'M', 'F', 'M', 'F']})\n",
        "\n",
        "random_sample = data.sample(n=3)\n",
        "stratified_sample, _ = train_test_split(data, test_size=0.5, stratify=data['Gender'])\n",
        "\n",
        "print(\"Random Sample:\\n\", random_sample)\n",
        "print(\"Stratified Sample:\\n\", stratified_sample)\n"
      ],
      "metadata": {
        "colab": {
          "base_uri": "https://localhost:8080/"
        },
        "id": "EPE29F3x7qXA",
        "outputId": "860d8305-1f96-44be-b78e-42049150de78"
      },
      "execution_count": 4,
      "outputs": [
        {
          "output_type": "stream",
          "name": "stdout",
          "text": [
            "Random Sample:\n",
            "    Age Gender\n",
            "0   20      M\n",
            "1   21      F\n",
            "3   23      F\n",
            "Stratified Sample:\n",
            "    Age Gender\n",
            "1   21      F\n",
            "3   23      F\n",
            "4   24      M\n"
          ]
        }
      ]
    },
    {
      "cell_type": "code",
      "source": [
        "# 5. Write a Python function to calculate the range of a dataset\n",
        "def calculate_range(data):\n",
        "    return max(data) - min(data)\n",
        "\n",
        "print(\"Range:\", calculate_range([10, 20, 30, 40]))\n"
      ],
      "metadata": {
        "colab": {
          "base_uri": "https://localhost:8080/"
        },
        "id": "WQDgCqoF7sqB",
        "outputId": "7c721abe-5b2e-48b9-a16d-76f03145017a"
      },
      "execution_count": 5,
      "outputs": [
        {
          "output_type": "stream",
          "name": "stdout",
          "text": [
            "Range: 30\n"
          ]
        }
      ]
    },
    {
      "cell_type": "code",
      "source": [
        "# 6. Create a dataset and plot its histogram to visualize skewness\n",
        "import matplotlib.pyplot as plt\n",
        "\n",
        "data = [1, 2, 2, 3, 3, 3, 4, 10]\n",
        "\n",
        "plt.hist(data, bins=5)\n",
        "plt.title(\"Histogram\")\n",
        "plt.show()\n"
      ],
      "metadata": {
        "colab": {
          "base_uri": "https://localhost:8080/",
          "height": 452
        },
        "id": "0HgfdAHf7u82",
        "outputId": "c01568a2-da9e-4e13-9b66-f5260f385fd1"
      },
      "execution_count": 6,
      "outputs": [
        {
          "output_type": "display_data",
          "data": {
            "text/plain": [
              "<Figure size 640x480 with 1 Axes>"
            ],
            "image/png": "[encoded data removed]"
          },
          "metadata": {}
        }
      ]
    },
    {
      "cell_type": "code",
      "source": [
        "# 7. Calculate skewness and kurtosis of a dataset using Python libraries\n",
        "from scipy.stats import skew, kurtosis\n",
        "\n",
        "data = [1, 2, 2, 3, 3, 3, 4, 10]\n",
        "print(\"Skewness:\", skew(data))\n",
        "print(\"Kurtosis:\", kurtosis(data))\n"
      ],
      "metadata": {
        "colab": {
          "base_uri": "https://localhost:8080/"
        },
        "id": "5JK5VwTB7vj8",
        "outputId": "2f71717d-177e-4058-a878-39818c101ff6"
      },
      "execution_count": 7,
      "outputs": [
        {
          "output_type": "stream",
          "name": "stdout",
          "text": [
            "Skewness: 1.7962008374788356\n",
            "Kurtosis: 2.0329218106995883\n"
          ]
        }
      ]
    },
    {
      "cell_type": "code",
      "source": [
        "# 8. Generate a dataset and demonstrate positive and negative skewness\n",
        "positive_skew = [1, 2, 2, 3, 4, 10]\n",
        "negative_skew = [10, 9, 8, 7, 6, 1]\n",
        "\n",
        "print(\"Positive Skewness:\", skew(positive_skew))\n",
        "print(\"Negative Skewness:\", skew(negative_skew))\n"
      ],
      "metadata": {
        "colab": {
          "base_uri": "https://localhost:8080/"
        },
        "id": "jM41iO4l7x0F",
        "outputId": "580eb410-daf0-4be9-a721-ee098107a179"
      },
      "execution_count": 8,
      "outputs": [
        {
          "output_type": "stream",
          "name": "stdout",
          "text": [
            "Positive Skewness: 1.418505623226429\n",
            "Negative Skewness: -1.05132808923202\n"
          ]
        }
      ]
    },
    {
      "cell_type": "code",
      "source": [
        "# 9. Write a Python script to calculate covariance between two datasets\n",
        "import numpy as np\n",
        "\n",
        "x = [1, 2, 3, 4, 5]\n",
        "y = [2, 4, 6, 8, 10]\n",
        "\n",
        "cov_matrix = np.cov(x, y)\n",
        "print(\"Covariance Matrix:\\n\", cov_matrix)\n"
      ],
      "metadata": {
        "colab": {
          "base_uri": "https://localhost:8080/"
        },
        "id": "7MRQO2vK70gW",
        "outputId": "41fec064-706c-416b-bf23-537f2a3dbc4b"
      },
      "execution_count": 9,
      "outputs": [
        {
          "output_type": "stream",
          "name": "stdout",
          "text": [
            "Covariance Matrix:\n",
            " [[ 2.5  5. ]\n",
            " [ 5.  10. ]]\n"
          ]
        }
      ]
    },
    {
      "cell_type": "code",
      "source": [
        "# 10. Write a Python script to calculate the correlation coefficient between two datasets\n",
        "correlation = np.corrcoef(x, y)\n",
        "print(\"Correlation Coefficient Matrix:\\n\", correlation)\n"
      ],
      "metadata": {
        "colab": {
          "base_uri": "https://localhost:8080/"
        },
        "id": "tsSeLZGB72Ny",
        "outputId": "943f9282-a1d2-4eb9-fb18-7b22cd29c8fd"
      },
      "execution_count": 10,
      "outputs": [
        {
          "output_type": "stream",
          "name": "stdout",
          "text": [
            "Correlation Coefficient Matrix:\n",
            " [[1. 1.]\n",
            " [1. 1.]]\n"
          ]
        }
      ]
    },
    {
      "cell_type": "code",
      "source": [
        "# 11. Create a scatter plot to visualize the relationship between two variables\n",
        "plt.scatter(x, y)\n",
        "plt.title(\"Scatter Plot\")\n",
        "plt.xlabel(\"X\")\n",
        "plt.ylabel(\"Y\")\n",
        "plt.show()\n"
      ],
      "metadata": {
        "colab": {
          "base_uri": "https://localhost:8080/",
          "height": 472
        },
        "id": "ZnY2uiqH7360",
        "outputId": "f7f43a0e-18c5-413d-a463-90b134bd733c"
      },
      "execution_count": 11,
      "outputs": [
        {
          "output_type": "display_data",
          "data": {
            "text/plain": [
              "<Figure size 640x480 with 1 Axes>"
            ],
            "image/png": "[encoded data removed]"
          },
          "metadata": {}
        }
      ]
    },
    {
      "cell_type": "code",
      "source": [
        "# 12. Implement and compare simple random sampling and systematic sampling\n",
        "data = np.arange(1, 21)\n",
        "\n",
        "random_sample = np.random.choice(data, size=5, replace=False)\n",
        "k = 4\n",
        "systematic_sample = data[::k]\n",
        "\n",
        "print(\"Random Sample:\", random_sample)\n",
        "print(\"Systematic Sample:\", systematic_sample)\n"
      ],
      "metadata": {
        "colab": {
          "base_uri": "https://localhost:8080/"
        },
        "id": "LDU4FqS575ys",
        "outputId": "bb2c5c7a-f871-4d56-b3f4-0012c98cb613"
      },
      "execution_count": 12,
      "outputs": [
        {
          "output_type": "stream",
          "name": "stdout",
          "text": [
            "Random Sample: [10  4 17  8  2]\n",
            "Systematic Sample: [ 1  5  9 13 17]\n"
          ]
        }
      ]
    },
    {
      "cell_type": "code",
      "source": [
        "# 13. Calculate the mean, median, and mode of grouped data\n",
        "import pandas as pd\n",
        "\n",
        "data = {'Class Interval': ['0-10', '10-20', '20-30'], 'Frequency': [5, 10, 5]}\n",
        "df = pd.DataFrame(data)\n",
        "\n",
        "df['Midpoint'] = [5, 15, 25]\n",
        "df['f*x'] = df['Frequency'] * df['Midpoint']\n",
        "\n",
        "mean = df['f*x'].sum() / df['Frequency'].sum()\n",
        "print(\"Grouped Mean:\", mean)\n"
      ],
      "metadata": {
        "colab": {
          "base_uri": "https://localhost:8080/"
        },
        "id": "VuYx5-ve77mO",
        "outputId": "9c8c3f56-b395-418f-cf43-b240464e29ed"
      },
      "execution_count": 13,
      "outputs": [
        {
          "output_type": "stream",
          "name": "stdout",
          "text": [
            "Grouped Mean: 15.0\n"
          ]
        }
      ]
    },
    {
      "cell_type": "code",
      "source": [
        "# 14. Simulate data using Python and calculate its central tendency and dispersion\n",
        "data = np.random.normal(loc=50, scale=10, size=100)\n",
        "\n",
        "print(\"Mean:\", np.mean(data))\n",
        "print(\"Median:\", np.median(data))\n",
        "print(\"Standard Deviation:\", np.std(data))\n"
      ],
      "metadata": {
        "colab": {
          "base_uri": "https://localhost:8080/"
        },
        "id": "E2J6ATj_79oF",
        "outputId": "eb83cfbf-cbeb-4bec-c8fc-82cbbc6fbdd2"
      },
      "execution_count": 14,
      "outputs": [
        {
          "output_type": "stream",
          "name": "stdout",
          "text": [
            "Mean: 50.21607341782128\n",
            "Median: 50.7400931200651\n",
            "Standard Deviation: 9.955518755645285\n"
          ]
        }
      ]
    },
    {
      "cell_type": "code",
      "source": [
        "# 15. Plot a boxplot to understand the spread and identify outliers\n",
        "plt.boxplot(data)\n",
        "plt.title(\"Boxplot\")\n",
        "plt.show()\n"
      ],
      "metadata": {
        "colab": {
          "base_uri": "https://localhost:8080/",
          "height": 452
        },
        "id": "XgR3ttJx7_Uo",
        "outputId": "4001fdd5-1d07-4c20-e813-236284917242"
      },
      "execution_count": 15,
      "outputs": [
        {
          "output_type": "display_data",
          "data": {
            "text/plain": [
              "<Figure size 640x480 with 1 Axes>"
            ],
            "image/png": "[encoded data removed]"
          },
          "metadata": {}
        }
      ]
    },
    {
      "cell_type": "code",
      "source": [
        "# 16. Calculate the interquartile range (IQR) of a dataset\n",
        "Q1 = np.percentile(data, 25)\n",
        "Q3 = np.percentile(data, 75)\n",
        "IQR = Q3 - Q1\n",
        "\n",
        "print(\"IQR:\", IQR)\n"
      ],
      "metadata": {
        "colab": {
          "base_uri": "https://localhost:8080/"
        },
        "id": "uBm7H3co8Axa",
        "outputId": "62132277-c61e-4899-c640-99107f31bad6"
      },
      "execution_count": 16,
      "outputs": [
        {
          "output_type": "stream",
          "name": "stdout",
          "text": [
            "IQR: 12.677580116709152\n"
          ]
        }
      ]
    },
    {
      "cell_type": "code",
      "source": [
        "# 17. Implement Z-score normalization and explain its significance\n",
        "from scipy.stats import zscore\n",
        "\n",
        "z_scores = zscore(data)\n",
        "print(\"Z-Scores:\\n\", z_scores[:5])\n"
      ],
      "metadata": {
        "colab": {
          "base_uri": "https://localhost:8080/"
        },
        "id": "M_fo0qsA8D0q",
        "outputId": "c93c9cd7-fe0a-43cf-b738-4cf537a95099"
      },
      "execution_count": 17,
      "outputs": [
        {
          "output_type": "stream",
          "name": "stdout",
          "text": [
            "Z-Scores:\n",
            " [ 0.48156732  0.1007547  -1.00043737 -0.61340293  2.54559579]\n"
          ]
        }
      ]
    },
    {
      "cell_type": "code",
      "source": [
        "# 18. Write a Python program to visualize covariance using a heatmap\n",
        "import seaborn as sns\n",
        "\n",
        "df = pd.DataFrame({'x': x, 'y': y})\n",
        "cov_matrix = df.cov()\n",
        "\n",
        "sns.heatmap(cov_matrix, annot=True)\n",
        "plt.title(\"Covariance Heatmap\")\n",
        "plt.show()\n"
      ],
      "metadata": {
        "colab": {
          "base_uri": "https://localhost:8080/",
          "height": 452
        },
        "id": "6PryJE6j8EZd",
        "outputId": "7eeb60b8-7a74-4490-dcd9-7ea4dd13be0c"
      },
      "execution_count": 18,
      "outputs": [
        {
          "output_type": "display_data",
          "data": {
            "text/plain": [
              "<Figure size 640x480 with 2 Axes>"
            ],
            "image/png": "[encoded data removed]"
          },
          "metadata": {}
        }
      ]
    },
    {
      "cell_type": "code",
      "source": [
        "# 19. Use seaborn to create a correlation matrix for a dataset\n",
        "correlation_matrix = df.corr()\n",
        "\n",
        "sns.heatmap(correlation_matrix, annot=True)\n",
        "plt.title(\"Correlation Matrix\")\n",
        "plt.show()\n"
      ],
      "metadata": {
        "colab": {
          "base_uri": "https://localhost:8080/",
          "height": 452
        },
        "id": "rgrPvi2Y8HU-",
        "outputId": "0a921005-21e0-42ac-8c0a-6160b470ff7c"
      },
      "execution_count": 19,
      "outputs": [
        {
          "output_type": "display_data",
          "data": {
            "text/plain": [
              "<Figure size 640x480 with 2 Axes>"
            ],
            "image/png": "[encoded data removed]"
          },
          "metadata": {}
        }
      ]
    },
    {
      "cell_type": "code",
      "source": [
        "# 20. Implement the Pearson and Spearman correlation coefficients for a dataset\n",
        "from scipy.stats import pearsonr, spearmanr\n",
        "\n",
        "pearson_corr, _ = pearsonr(x, y)\n",
        "spearman_corr, _ = spearmanr(x, y)\n",
        "\n",
        "print(\"Pearson Correlation:\", pearson_corr)\n",
        "print(\"Spearman Correlation:\", spearman_corr)\n"
      ],
      "metadata": {
        "colab": {
          "base_uri": "https://localhost:8080/"
        },
        "id": "9BUsC75t8I5M",
        "outputId": "73911570-223d-4e67-af8f-9ca8441772c0"
      },
      "execution_count": 20,
      "outputs": [
        {
          "output_type": "stream",
          "name": "stdout",
          "text": [
            "Pearson Correlation: 1.0\n",
            "Spearman Correlation: 0.9999999999999999\n"
          ]
        }
      ]
    },
    {
      "cell_type": "code",
      "source": [
        "# 21. Use seaborn to create a correlation matrix for a dataset\n",
        "import pandas as pd\n",
        "import seaborn as sns\n",
        "import matplotlib.pyplot as plt\n",
        "\n",
        "df = pd.DataFrame({\n",
        "    'Math': [80, 85, 90, 95, 100],\n",
        "    'Science': [78, 83, 88, 92, 96],\n",
        "    'English': [82, 80, 85, 87, 90]\n",
        "})\n",
        "\n",
        "correlation_matrix = df.corr()\n",
        "sns.heatmap(correlation_matrix, annot=True, cmap='coolwarm')\n",
        "plt.title(\"Correlation Matrix\")\n",
        "plt.show()\n"
      ],
      "metadata": {
        "colab": {
          "base_uri": "https://localhost:8080/",
          "height": 452
        },
        "id": "j5_bNRK88Jje",
        "outputId": "7659a1d8-5c07-4f04-89e5-12e6160e2b86"
      },
      "execution_count": 21,
      "outputs": [
        {
          "output_type": "display_data",
          "data": {
            "text/plain": [
              "<Figure size 640x480 with 2 Axes>"
            ],
            "image/png": "[encoded data removed]"
          },
          "metadata": {}
        }
      ]
    },
    {
      "cell_type": "code",
      "source": [
        "# 22. Generate a dataset and implement both variance and standard deviation computations\n",
        "import numpy as np\n",
        "\n",
        "data = np.array([10, 20, 30, 40, 50])\n",
        "variance = np.var(data, ddof=1)\n",
        "std_dev = np.std(data, ddof=1)\n",
        "\n",
        "print(\"Variance:\", variance)\n",
        "print(\"Standard Deviation:\", std_dev)\n"
      ],
      "metadata": {
        "colab": {
          "base_uri": "https://localhost:8080/"
        },
        "id": "JsV0NpuU-YTO",
        "outputId": "7d0bb048-eb40-422e-bd9c-57c6d40a6aff"
      },
      "execution_count": 22,
      "outputs": [
        {
          "output_type": "stream",
          "name": "stdout",
          "text": [
            "Variance: 250.0\n",
            "Standard Deviation: 15.811388300841896\n"
          ]
        }
      ]
    },
    {
      "cell_type": "code",
      "source": [
        "# 23. Visualize skewness and kurtosis using Python libraries like matplotlib or seaborn\n",
        "from scipy.stats import skew, kurtosis\n",
        "import seaborn as sns\n",
        "import matplotlib.pyplot as plt\n",
        "\n",
        "data = [1, 2, 2, 3, 3, 3, 4, 10]\n",
        "\n",
        "sns.histplot(data, kde=True)\n",
        "plt.title(\"Histogram with KDE\")\n",
        "plt.show()\n",
        "\n",
        "print(\"Skewness:\", skew(data))\n",
        "print(\"Kurtosis:\", kurtosis(data))\n"
      ],
      "metadata": {
        "colab": {
          "base_uri": "https://localhost:8080/",
          "height": 487
        },
        "id": "elLcFL5g-aQU",
        "outputId": "d9540a03-5cdb-49f9-b9f6-c746f5b7d7b7"
      },
      "execution_count": 23,
      "outputs": [
        {
          "output_type": "display_data",
          "data": {
            "text/plain": [
              "<Figure size 640x480 with 1 Axes>"
            ],
            "image/png": "[encoded data removed]"
          },
          "metadata": {}
        },
        {
          "output_type": "stream",
          "name": "stdout",
          "text": [
            "Skewness: 1.7962008374788356\n",
            "Kurtosis: 2.0329218106995883\n"
          ]
        }
      ]
    },
    {
      "cell_type": "code",
      "source": [
        "# 24. Implement the Pearson and Spearman correlation coefficients for a dataset\n",
        "from scipy.stats import pearsonr, spearmanr\n",
        "\n",
        "x = [1, 2, 3, 4, 5]\n",
        "y = [5, 6, 7, 8, 7]\n",
        "\n",
        "pearson_corr, _ = pearsonr(x, y)\n",
        "spearman_corr, _ = spearmanr(x, y)\n",
        "\n",
        "print(\"Pearson Correlation Coefficient:\", pearson_corr)\n",
        "print(\"Spearman Correlation Coefficient:\", spearman_corr)\n"
      ],
      "metadata": {
        "colab": {
          "base_uri": "https://localhost:8080/"
        },
        "id": "IguAI6tQ-dv9",
        "outputId": "042952e0-a66d-4cf3-e096-c6ce11f0b445"
      },
      "execution_count": 24,
      "outputs": [
        {
          "output_type": "stream",
          "name": "stdout",
          "text": [
            "Pearson Correlation Coefficient: 0.8320502943378436\n",
            "Spearman Correlation Coefficient: 0.8207826816681233\n"
          ]
        }
      ]
    }
  ]
}